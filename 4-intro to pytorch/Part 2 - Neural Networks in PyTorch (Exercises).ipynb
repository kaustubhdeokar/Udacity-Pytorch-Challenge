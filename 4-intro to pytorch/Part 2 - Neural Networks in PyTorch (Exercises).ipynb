{
 "cells": [
  {
   "cell_type": "markdown",
   "metadata": {},
   "source": [
    "# Neural networks with PyTorch\n",
    "\n",
    "Deep learning networks tend to be massive with dozens or hundreds of layers, that's where the term \"deep\" comes from. You can build one of these deep networks using only weight matrices as we did in the previous notebook, but in general it's very cumbersome and difficult to implement. PyTorch has a nice module `nn` that provides a nice way to efficiently build large neural networks."
   ]
  },
  {
   "cell_type": "code",
   "execution_count": 3,
   "metadata": {},
   "outputs": [],
   "source": [
    "# Import necessary packages\n",
    "\n",
    "%matplotlib inline\n",
    "%config InlineBackend.figure_format = 'retina'\n",
    "\n",
    "import numpy as np\n",
    "import torch\n",
    "\n",
    "\n",
    "import matplotlib.pyplot as plt"
   ]
  },
  {
   "cell_type": "markdown",
   "metadata": {},
   "source": [
    "\n",
    "Now we're going to build a larger network that can solve a (formerly) difficult problem, identifying text in an image. Here we'll use the MNIST dataset which consists of greyscale handwritten digits. Each image is 28x28 pixels, you can see a sample below\n",
    "\n",
    "<img src='assets/mnist.png'>\n",
    "\n",
    "Our goal is to build a neural network that can take one of these images and predict the digit in the image.\n",
    "\n",
    "First up, we need to get our dataset. This is provided through the `torchvision` package. The code below will download the MNIST dataset, then create training and test datasets for us. Don't worry too much about the details here, you'll learn more about this later."
   ]
  },
  {
   "cell_type": "code",
   "execution_count": 4,
   "metadata": {},
   "outputs": [
    {
     "data": {
      "text/plain": [
       "Dataset MNIST\n",
       "    Number of datapoints: 60000\n",
       "    Split: train\n",
       "    Root Location: /home/kaustubh/.pytorch/MNIST_data/\n",
       "    Transforms (if any): Compose(\n",
       "                             ToTensor()\n",
       "                             Normalize(mean=(0.5,), std=(0.5,))\n",
       "                         )\n",
       "    Target Transforms (if any): None"
      ]
     },
     "execution_count": 4,
     "metadata": {},
     "output_type": "execute_result"
    }
   ],
   "source": [
    "### Run this cell\n",
    "\n",
    "from torchvision import datasets, transforms\n",
    "\n",
    "# Define a transform to normalize the data\n",
    "transform = transforms.Compose([transforms.ToTensor(),\n",
    "                              transforms.Normalize((0.5,), (0.5,)),\n",
    "                              ])\n",
    "\n",
    "# Download and load the training data\n",
    "trainset = datasets.MNIST('~/.pytorch/MNIST_data/', download=True, train=True, transform=transform)\n",
    "trainloader = torch.utils.data.DataLoader(trainset, batch_size=64, shuffle=True)\n",
    "trainset"
   ]
  },
  {
   "cell_type": "markdown",
   "metadata": {},
   "source": [
    "We have the training data loaded into `trainloader` and we make that an iterator with `iter(trainloader)`. Later, we'll use this to loop through the dataset for training, like\n",
    "\n",
    "```python\n",
    "for image, label in trainloader:\n",
    "    ## do things with images and labels\n",
    "```\n",
    "\n",
    "You'll notice I created the `trainloader` with a batch size of 64, and `shuffle=True`. The batch size is the number of images we get in one iteration from the data loader and pass through our network, often called a *batch*. And `shuffle=True` tells it to shuffle the dataset every time we start going through the data loader again. But here I'm just grabbing the first batch so we can check out the data. We can see below that `images` is just a tensor with size `(64, 1, 28, 28)`. So, 64 images per batch, 1 color channel, and 28x28 images."
   ]
  },
  {
   "cell_type": "code",
   "execution_count": 5,
   "metadata": {},
   "outputs": [
    {
     "name": "stdout",
     "output_type": "stream",
     "text": [
      "<class 'torch.Tensor'>\n",
      "torch.Size([64, 1, 28, 28])\n",
      "torch.Size([64])\n"
     ]
    }
   ],
   "source": [
    "dataiter = iter(trainloader)\n",
    "images, labels = dataiter.next()\n",
    "\n",
    "print(type(images))\n",
    "print(images.shape)\n",
    "print(labels.shape)\n"
   ]
  },
  {
   "cell_type": "markdown",
   "metadata": {},
   "source": [
    "\n",
    "\n",
    "This is what one of the images looks like. "
   ]
  },
  {
   "cell_type": "code",
   "execution_count": 16,
   "metadata": {},
   "outputs": [
    {
     "data": {
      "image/png": "[encoded data removed]",
      "text/plain": [
       "<Figure size 432x288 with 1 Axes>"
      ]
     },
     "metadata": {
      "image/png": {
       "height": 250,
       "width": 253
      },
      "needs_background": "light"
     },
     "output_type": "display_data"
    }
   ],
   "source": [
    "plt.imshow(images[1].numpy().squeeze(), cmap='Greys_r');"
   ]
  },
  {
   "cell_type": "markdown",
   "metadata": {},
   "source": [
    "First, let's try to build a simple network for this dataset using weight matrices and matrix multiplications. Then, we'll see how to do it using PyTorch's `nn` module which provides a much more convenient and powerful method for defining network architectures.\n",
    "\n",
    "The networks you've seen so far are called *fully-connected* or *dense* networks. Each unit in one layer is connected to each unit in the next layer. In fully-connected networks, the input to each layer must be a one-dimensional vector (which can be stacked into a 2D tensor as a batch of multiple examples). However, our images are 28x28 2D tensors, so we need to convert them into 1D vectors. Thinking about sizes, we need to convert the batch of images with shape `(64, 1, 28, 28)` to a have a shape of `(64, 784)`, 784 is 28 times 28. This is typically called *flattening*, we flattened the 2D images into 1D vectors.\n",
    "\n",
    "Previously you built a network with one output unit. Here we need 10 output units, one for each digit. We want our network to predict the digit shown in an image, so what we'll do is calculate probabilities that the image is of any one digit or class. This ends up being a discrete probability distribution over the classes (digits) that tells us the most likely class for the image. That means we need 10 output units for the 10 classes (digits). We'll see how to convert the network output into a probability distribution next.\n",
    "\n",
    "> **Exercise:** Flatten the batch of images `images`. Then build a multi-layer network with 784 input units, 256 hidden units, and 10 output units using random tensors for the weights and biases. For now, use a sigmoid activation for the hidden layer. Leave the output layer without an activation, we'll add one that gives us a probability distribution next."
   ]
  },
  {
   "cell_type": "code",
   "execution_count": 8,
   "metadata": {},
   "outputs": [
    {
     "name": "stdout",
     "output_type": "stream",
     "text": [
      "tensor([[9.5102e-01, 1.1979e-06, 9.7914e-01, 4.2091e-06, 1.5643e-03, 7.3663e-04,\n",
      "         9.9976e-01, 1.5762e-03, 2.5029e-03, 1.0734e-05],\n",
      "        [5.4274e-04, 8.5006e-06, 4.2112e-03, 2.2269e-03, 9.9991e-01, 2.9955e-03,\n",
      "         9.9997e-01, 2.9702e-02, 9.5189e-01, 2.6948e-03],\n",
      "        [2.5529e-06, 2.1589e-05, 2.8377e-02, 4.4290e-09, 9.0066e-01, 4.9638e-12,\n",
      "         1.7390e-01, 8.9033e-02, 6.6881e-01, 9.8386e-01],\n",
      "        [8.4611e-05, 7.5318e-07, 9.1098e-01, 1.9766e-05, 1.0000e+00, 1.8150e-05,\n",
      "         4.9021e-02, 4.0836e-01, 9.7592e-01, 6.3318e-06],\n",
      "        [4.0774e-07, 7.9836e-07, 1.0384e-01, 2.7218e-02, 4.6039e-01, 4.4923e-05,\n",
      "         9.9875e-01, 4.6892e-01, 9.9450e-01, 3.1557e-03],\n",
      "        [3.2231e-05, 2.5595e-07, 2.2668e-01, 1.1520e-02, 9.3713e-01, 9.2730e-01,\n",
      "         9.9629e-01, 6.2391e-04, 4.5836e-02, 1.4853e-05],\n",
      "        [5.3556e-06, 6.6093e-08, 9.2837e-01, 2.2199e-01, 9.9969e-01, 5.6037e-01,\n",
      "         1.0000e+00, 9.8975e-01, 6.7308e-01, 6.5276e-04],\n",
      "        [1.7909e-05, 1.4885e-08, 1.1197e-03, 8.4005e-04, 6.5726e-02, 6.7661e-01,\n",
      "         8.8340e-01, 5.0865e-02, 9.9921e-01, 2.0391e-06],\n",
      "        [3.9465e-01, 1.5819e-06, 9.3256e-01, 2.1483e-05, 8.9171e-01, 2.7134e-08,\n",
      "         9.9999e-01, 4.7250e-02, 1.7528e-01, 9.9750e-01],\n",
      "        [2.9517e-05, 2.8385e-05, 1.0616e-04, 6.8781e-02, 9.9986e-01, 1.7542e-04,\n",
      "         9.9984e-01, 9.2709e-01, 4.8709e-02, 5.9075e-09],\n",
      "        [2.5360e-04, 6.7369e-04, 9.4160e-03, 1.8038e-02, 9.9965e-01, 5.1511e-09,\n",
      "         9.9976e-01, 8.8378e-02, 9.9980e-01, 9.4585e-01],\n",
      "        [2.0054e-02, 3.6743e-10, 9.9839e-01, 9.9175e-05, 5.7958e-01, 5.3054e-01,\n",
      "         9.9996e-01, 5.9304e-03, 9.0387e-01, 3.8681e-04],\n",
      "        [4.8306e-09, 8.9191e-07, 3.4182e-01, 5.2308e-04, 9.9999e-01, 5.5076e-01,\n",
      "         9.7879e-01, 4.1969e-05, 9.9998e-01, 5.1126e-04],\n",
      "        [8.8582e-04, 9.9765e-04, 3.8573e-01, 2.7806e-05, 9.6851e-01, 1.8728e-02,\n",
      "         1.0000e+00, 9.1445e-01, 9.3866e-01, 8.2022e-04],\n",
      "        [3.4788e-06, 1.9716e-07, 1.0187e-04, 2.8841e-05, 9.9445e-01, 5.8300e-01,\n",
      "         9.9630e-01, 1.3505e-02, 9.9181e-01, 9.0267e-03],\n",
      "        [4.2138e-04, 1.6462e-04, 2.1448e-05, 3.0839e-04, 9.9300e-01, 1.1213e-02,\n",
      "         9.9272e-01, 9.9989e-01, 2.8330e-02, 1.1027e-02],\n",
      "        [3.0667e-08, 6.3626e-10, 1.1453e-02, 9.9274e-06, 9.9998e-01, 3.4122e-04,\n",
      "         2.0829e-02, 3.5144e-01, 9.9962e-01, 1.8741e-01],\n",
      "        [4.1411e-09, 2.6476e-06, 2.5028e-06, 5.5184e-04, 9.9999e-01, 7.3517e-04,\n",
      "         9.9775e-01, 8.0550e-03, 8.7900e-01, 3.3782e-03],\n",
      "        [1.4553e-09, 1.0275e-01, 7.8307e-01, 4.8101e-04, 8.9835e-01, 1.1745e-06,\n",
      "         1.1497e-02, 9.7822e-01, 1.2692e-01, 5.1454e-01],\n",
      "        [1.9110e-07, 1.4194e-04, 7.7098e-05, 3.6939e-06, 9.9980e-01, 4.8625e-03,\n",
      "         9.9205e-01, 2.8215e-01, 2.4652e-01, 2.5654e-03],\n",
      "        [8.6031e-05, 3.0940e-02, 9.9569e-01, 3.8478e-05, 9.7811e-01, 1.8637e-08,\n",
      "         9.9871e-01, 9.7934e-01, 7.8650e-05, 4.5919e-03],\n",
      "        [6.0864e-08, 3.1317e-08, 9.9948e-01, 3.6361e-02, 4.8107e-02, 8.5565e-05,\n",
      "         9.9256e-01, 3.7846e-01, 9.8358e-01, 3.0004e-02],\n",
      "        [2.7472e-05, 1.3791e-04, 2.1449e-02, 6.9418e-05, 1.0884e-02, 6.8569e-02,\n",
      "         8.8201e-01, 8.7954e-03, 2.4973e-01, 2.1253e-03],\n",
      "        [1.5229e-03, 1.0670e-06, 3.8940e-04, 4.7561e-06, 9.6762e-02, 2.1502e-03,\n",
      "         9.9907e-01, 3.2416e-02, 1.3778e-04, 1.6498e-05],\n",
      "        [1.4428e-04, 1.4170e-06, 1.6093e-01, 7.2836e-01, 9.9922e-01, 3.8378e-05,\n",
      "         1.0000e+00, 1.3616e-01, 1.0298e-06, 4.5957e-03],\n",
      "        [1.5461e-03, 4.0875e-06, 4.5605e-04, 1.1622e-03, 9.1751e-01, 1.5268e-08,\n",
      "         9.9996e-01, 3.0864e-01, 5.5587e-02, 9.7451e-04],\n",
      "        [4.4283e-03, 1.8183e-07, 5.4772e-03, 9.9528e-01, 9.9984e-01, 8.5724e-08,\n",
      "         9.9995e-01, 9.3074e-01, 4.6351e-04, 1.7546e-05],\n",
      "        [1.4411e-06, 4.5332e-07, 3.3327e-04, 7.1464e-01, 9.9830e-01, 1.3600e-02,\n",
      "         7.9898e-01, 4.0594e-03, 3.2153e-01, 2.9471e-04],\n",
      "        [1.2156e-05, 2.8717e-09, 5.6213e-01, 1.1805e-02, 9.9959e-01, 1.5114e-01,\n",
      "         9.9999e-01, 6.4633e-01, 9.9996e-01, 8.7085e-05],\n",
      "        [1.9114e-03, 1.0158e-06, 2.5208e-03, 1.0534e-03, 9.9981e-01, 5.2871e-01,\n",
      "         9.9998e-01, 1.6145e-02, 4.1478e-01, 1.1731e-03],\n",
      "        [2.9835e-03, 1.4226e-05, 2.1537e-03, 1.3065e-05, 7.1481e-02, 3.7760e-06,\n",
      "         9.9878e-01, 9.9973e-01, 1.5691e-01, 2.1328e-03],\n",
      "        [2.6948e-06, 5.5234e-07, 8.6890e-02, 3.9457e-05, 9.6149e-01, 1.0876e-05,\n",
      "         9.9997e-01, 8.9839e-01, 9.8354e-01, 4.7106e-02],\n",
      "        [8.3850e-10, 8.8639e-04, 6.0613e-01, 4.2746e-04, 9.9994e-01, 6.9440e-07,\n",
      "         7.6678e-01, 9.7206e-01, 6.6292e-02, 4.4172e-04],\n",
      "        [6.3708e-02, 1.5926e-05, 1.7142e-01, 6.7557e-05, 9.9937e-01, 7.8219e-06,\n",
      "         9.9972e-01, 6.9547e-01, 4.9224e-04, 9.1167e-05],\n",
      "        [7.8214e-08, 3.7837e-06, 6.7131e-01, 1.9297e-02, 9.8928e-01, 4.8554e-01,\n",
      "         9.9978e-01, 1.2114e-03, 9.5782e-01, 4.4469e-06],\n",
      "        [1.3488e-01, 3.6862e-07, 4.4769e-03, 2.5351e-05, 8.6562e-01, 2.5617e-06,\n",
      "         9.9998e-01, 5.3588e-01, 3.7969e-02, 1.7552e-04],\n",
      "        [1.4485e-02, 4.6358e-06, 3.3755e-04, 1.6708e-03, 6.5972e-01, 4.9960e-06,\n",
      "         9.9722e-01, 1.6598e-01, 4.5471e-01, 1.3778e-08],\n",
      "        [9.6977e-03, 5.4137e-07, 7.7591e-01, 3.3831e-03, 2.4423e-01, 1.7804e-09,\n",
      "         9.9886e-01, 7.2043e-02, 1.4139e-01, 7.5548e-02],\n",
      "        [3.3820e-02, 1.1616e-07, 1.7701e-01, 2.7082e-06, 7.6529e-01, 2.6094e-03,\n",
      "         9.9992e-01, 6.8314e-01, 6.8224e-01, 2.9664e-06],\n",
      "        [6.9722e-01, 1.3448e-02, 2.9026e-05, 3.5809e-07, 9.9960e-01, 6.5600e-07,\n",
      "         9.9990e-01, 8.4395e-01, 9.3844e-01, 4.6876e-01],\n",
      "        [1.2120e-04, 2.5445e-07, 9.9912e-01, 5.1717e-07, 9.1599e-01, 6.6565e-12,\n",
      "         8.8159e-01, 6.4525e-01, 5.0577e-02, 9.9135e-01],\n",
      "        [1.7239e-01, 1.7969e-04, 7.0878e-01, 6.6152e-01, 9.9850e-01, 1.3258e-05,\n",
      "         4.2528e-01, 9.6626e-01, 1.4296e-05, 1.5477e-05],\n",
      "        [1.2765e-02, 1.5925e-02, 1.5730e-01, 7.1729e-06, 9.6968e-01, 8.4360e-06,\n",
      "         9.9634e-01, 9.9604e-01, 8.1822e-01, 1.2502e-01],\n",
      "        [3.2696e-04, 9.3017e-05, 9.8743e-01, 6.2148e-04, 9.6478e-01, 4.5131e-04,\n",
      "         9.9949e-01, 9.7137e-01, 1.8410e-01, 1.5854e-03],\n",
      "        [1.1423e-04, 7.5943e-09, 9.9542e-01, 4.1081e-03, 9.5330e-01, 2.6516e-02,\n",
      "         9.9543e-01, 5.5997e-05, 5.3655e-02, 1.0369e-03],\n",
      "        [1.9867e-02, 4.9055e-07, 1.6921e-03, 6.3766e-01, 1.3526e-01, 9.9216e-01,\n",
      "         9.9999e-01, 7.1082e-02, 9.4343e-04, 1.9280e-07],\n",
      "        [1.8485e-03, 3.5710e-06, 8.6863e-01, 1.2820e-02, 8.1413e-01, 7.0950e-06,\n",
      "         4.1748e-01, 9.9996e-01, 3.8651e-01, 2.4600e-02],\n",
      "        [7.8019e-03, 4.5486e-03, 3.9859e-01, 1.3693e-03, 2.1073e-01, 6.5224e-08,\n",
      "         9.9919e-01, 1.4718e-02, 9.3166e-01, 5.3361e-05],\n",
      "        [7.4140e-07, 1.6643e-06, 5.7423e-05, 3.9559e-02, 9.9965e-01, 1.6440e-03,\n",
      "         1.5057e-02, 9.1168e-04, 9.2410e-01, 6.1128e-03],\n",
      "        [2.5018e-05, 1.6306e-05, 9.9870e-01, 6.7685e-04, 9.5642e-01, 5.5387e-02,\n",
      "         9.9897e-01, 9.8514e-03, 7.1227e-01, 3.9112e-04],\n",
      "        [7.6048e-03, 1.9823e-01, 1.3331e-01, 1.3162e-07, 2.6168e-02, 5.0924e-05,\n",
      "         9.9894e-01, 4.4698e-02, 2.8074e-05, 4.0542e-05],\n",
      "        [1.5085e-02, 1.6876e-04, 4.4407e-01, 2.2515e-03, 3.1900e-01, 8.4592e-01,\n",
      "         9.9964e-01, 2.0023e-02, 2.5664e-02, 1.5515e-05],\n",
      "        [4.3535e-06, 4.0289e-08, 6.3064e-01, 1.8278e-06, 9.8038e-01, 1.5279e-08,\n",
      "         9.3853e-01, 3.0674e-03, 2.8256e-01, 7.3187e-05],\n",
      "        [6.0741e-03, 4.9102e-05, 2.7998e-01, 2.9901e-05, 9.9634e-01, 3.6152e-05,\n",
      "         1.0000e+00, 5.8132e-02, 1.0532e-01, 1.2428e-02],\n",
      "        [1.1439e-08, 1.2680e-13, 9.9681e-01, 3.2113e-05, 9.9510e-01, 1.3830e-03,\n",
      "         9.9994e-01, 5.1797e-01, 9.9994e-01, 3.5902e-06],\n",
      "        [6.4627e-04, 6.1499e-05, 1.6899e-01, 7.6342e-07, 9.1552e-01, 1.1245e-09,\n",
      "         2.1307e-01, 9.5742e-01, 9.8639e-01, 9.8554e-01],\n",
      "        [9.0612e-04, 4.3584e-07, 6.0419e-02, 6.2525e-07, 7.2087e-01, 1.2189e-03,\n",
      "         1.0000e+00, 4.4443e-02, 7.6174e-04, 3.1538e-06],\n",
      "        [4.7219e-02, 9.7252e-05, 8.7141e-03, 2.5615e-02, 9.9879e-01, 3.8326e-09,\n",
      "         9.9999e-01, 9.5352e-01, 3.9146e-01, 2.4541e-03],\n",
      "        [6.1084e-03, 1.1097e-06, 5.4340e-03, 1.5496e-01, 1.5856e-01, 2.3897e-01,\n",
      "         1.0000e+00, 7.9315e-01, 2.5249e-02, 3.9451e-08],\n",
      "        [2.5534e-07, 2.3725e-06, 3.8356e-03, 3.6324e-05, 1.0000e+00, 2.9158e-01,\n",
      "         4.8012e-01, 1.5694e-04, 1.0829e-01, 1.3624e-06],\n",
      "        [7.0850e-05, 1.0904e-03, 4.1559e-01, 1.8151e-05, 9.8244e-01, 5.9023e-06,\n",
      "         3.4337e-01, 9.9111e-01, 5.2436e-01, 3.5498e-04],\n",
      "        [2.9599e-01, 1.3172e-06, 4.4368e-01, 1.1155e-06, 9.9996e-01, 3.4572e-06,\n",
      "         9.9281e-01, 1.1128e-03, 3.0137e-01, 1.2261e-04],\n",
      "        [2.2165e-08, 1.7983e-06, 9.5278e-01, 2.5802e-01, 3.0223e-03, 9.0169e-07,\n",
      "         4.1240e-01, 4.8273e-02, 3.7220e-04, 2.0319e-03],\n",
      "        [1.5313e-06, 4.3651e-05, 1.4784e-03, 9.2095e-01, 9.9448e-01, 1.1468e-08,\n",
      "         9.9880e-01, 9.9901e-01, 2.0819e-04, 1.6091e-03]])\n"
     ]
    }
   ],
   "source": [
    "def activation(x):\n",
    "    return 1/(1+torch.exp(-x))\n",
    "\n",
    "images.size()\n",
    "features=images.view(images.shape[0],-1)\n",
    "features.size()\n",
    "ninput=features[1]\n",
    "nhidden=256\n",
    "noutput=10\n",
    "w1=torch.randn(ninput,nhidden)\n",
    "b1=torch.randn(nhidden)\n",
    "y=activation(torch.mm(features,w1)+b1)\n",
    "w2=torch.randn(nhidden,noutput)\n",
    "b2=torch.randn(noutput)\n",
    "y1=activation(torch.mm(features,w2)+b2)\n"
   ]
  },
  {
   "cell_type": "markdown",
   "metadata": {},
   "source": [
    "Now we have 10 outputs for our network. We want to pass in an image to our network and get out a probability distribution over the classes that tells us the likely class(es) the image belongs to. Something that looks like this:\n",
    "<img src='assets/image_distribution.png' width=500px>\n",
    "\n",
    "Here we see that the probability for each class is roughly the same. This is representing an untrained network, it hasn't seen any data yet so it just returns a uniform distribution with equal probabilities for each class.\n",
    "\n",
    "To calculate this probability distribution, we often use the [**softmax** function](https://en.wikipedia.org/wiki/Softmax_function). Mathematically this looks like\n",
    "\n",
    "$$\n",
    "\\Large \\sigma(x_i) = \\cfrac{e^{x_i}}{\\sum_k^K{e^{x_k}}}\n",
    "$$\n",
    "\n",
    "What this does is squish each input $x_i$ between 0 and 1 and normalizes the values to give you a proper probability distribution where the probabilites sum up to one.\n",
    "\n",
    "> **Exercise:** Implement a function `softmax` that performs the softmax calculation and returns probability distributions for each example in the batch. Note that you'll need to pay attention to the shapes when doing this. If you have a tensor `a` with shape `(64, 10)` and a tensor `b` with shape `(64,)`, doing `a/b` will give you an error because PyTorch will try to do the division across the columns (called broadcasting) but you'll get a size mismatch. The way to think about this is for each of the 64 examples, you only want to divide by one value, the sum in the denominator. So you need `b` to have a shape of `(64, 1)`. This way PyTorch will divide the 10 values in each row of `a` by the one value in each row of `b`. Pay attention to how you take the sum as well. You'll need to define the `dim` keyword in `torch.sum`. Setting `dim=0` takes the sum across the rows while `dim=1` takes the sum across the columns."
   ]
  },
  {
   "cell_type": "code",
   "execution_count": 88,
   "metadata": {},
   "outputs": [
    {
     "name": "stdout",
     "output_type": "stream",
     "text": [
      "tensor([1.0000, 1.0000, 1.0000, 1.0000, 1.0000, 1.0000, 1.0000, 1.0000, 1.0000,\n",
      "        1.0000, 1.0000, 1.0000, 1.0000, 1.0000, 1.0000, 1.0000, 1.0000, 1.0000,\n",
      "        1.0000, 1.0000, 1.0000, 1.0000, 1.0000, 1.0000, 1.0000, 1.0000, 1.0000,\n",
      "        1.0000, 1.0000, 1.0000, 1.0000, 1.0000, 1.0000, 1.0000, 1.0000, 1.0000,\n",
      "        1.0000, 1.0000, 1.0000, 1.0000, 1.0000, 1.0000, 1.0000, 1.0000, 1.0000,\n",
      "        1.0000, 1.0000, 1.0000, 1.0000, 1.0000, 1.0000, 1.0000, 1.0000, 1.0000,\n",
      "        1.0000, 1.0000, 1.0000, 1.0000, 1.0000, 1.0000, 1.0000, 1.0000, 1.0000,\n",
      "        1.0000])\n"
     ]
    }
   ],
   "source": [
    "a=[]\n",
    "def softmax(x):\n",
    "    return torch.exp(x)/torch.sum(torch.exp(x),dim=1).view(-1,1)\n",
    "prob=softmax(y1)\n",
    "prob.shape\n",
    "print(torch.sum(prob,dim=1))"
   ]
  },
  {
   "cell_type": "markdown",
   "metadata": {},
   "source": [
    "## Building networks with PyTorch\n",
    "\n",
    "PyTorch provides a module `nn` that makes building networks much simpler. Here I'll show you how to build the same one as above with 784 inputs, 256 hidden units, 10 output units and a softmax output."
   ]
  },
  {
   "cell_type": "code",
   "execution_count": null,
   "metadata": {
    "collapsed": true
   },
   "outputs": [],
   "source": [
    "from torch import nn"
   ]
  },
  {
   "cell_type": "code",
   "execution_count": null,
   "metadata": {
    "collapsed": true
   },
   "outputs": [],
   "source": [
    "class Network(nn.Module):\n",
    "    def __init__(self):\n",
    "        super().__init__()\n",
    "        \n",
    "        # Inputs to hidden layer linear transformation\n",
    "        self.hidden = nn.Linear(784, 256)\n",
    "        # Output layer, 10 units - one for each digit\n",
    "        self.output = nn.Linear(256, 10)\n",
    "        \n",
    "        # Define sigmoid activation and softmax output \n",
    "        self.sigmoid = nn.Sigmoid()\n",
    "        self.softmax = nn.Softmax(dim=1)\n",
    "        \n",
    "    def forward(self, x):\n",
    "        # Pass the input tensor through each of our operations\n",
    "        x = self.hidden(x)\n",
    "        x = self.sigmoid(x)\n",
    "        x = self.output(x)\n",
    "        x = self.softmax(x)\n",
    "        \n",
    "        return x"
   ]
  },
  {
   "cell_type": "markdown",
   "metadata": {},
   "source": [
    "Let's go through this bit by bit.\n",
    "\n",
    "```python\n",
    "class Network(nn.Module):\n",
    "```\n",
    "\n",
    "Here we're inheriting from `nn.Module`. Combined with `super().__init__()` this creates a class that tracks the architecture and provides a lot of useful methods and attributes. It is mandatory to inherit from `nn.Module` when you're creating a class for your network. The name of the class itself can be anything.\n",
    "\n",
    "```python\n",
    "self.hidden = nn.Linear(784, 256)\n",
    "```\n",
    "\n",
    "This line creates a module for a linear transformation, $x\\mathbf{W} + b$, with 784 inputs and 256 outputs and assigns it to `self.hidden`. The module automatically creates the weight and bias tensors which we'll use in the `forward` method. You can access the weight and bias tensors once the network (`net`) is created with `net.hidden.weight` and `net.hidden.bias`.\n",
    "\n",
    "```python\n",
    "self.output = nn.Linear(256, 10)\n",
    "```\n",
    "\n",
    "Similarly, this creates another linear transformation with 256 inputs and 10 outputs.\n",
    "\n",
    "```python\n",
    "self.sigmoid = nn.Sigmoid()\n",
    "self.softmax = nn.Softmax(dim=1)\n",
    "```\n",
    "\n",
    "Here I defined operations for the sigmoid activation and softmax output. Setting `dim=1` in `nn.Softmax(dim=1)` calculates softmax across the columns.\n",
    "\n",
    "```python\n",
    "def forward(self, x):\n",
    "```\n",
    "\n",
    "PyTorch networks created with `nn.Module` must have a `forward` method defined. It takes in a tensor `x` and passes it through the operations you defined in the `__init__` method.\n",
    "\n",
    "```python\n",
    "x = self.hidden(x)\n",
    "x = self.sigmoid(x)\n",
    "x = self.output(x)\n",
    "x = self.softmax(x)\n",
    "```\n",
    "\n",
    "Here the input tensor `x` is passed through each operation a reassigned to `x`. We can see that the input tensor goes through the hidden layer, then a sigmoid function, then the output layer, and finally the softmax function. It doesn't matter what you name the variables here, as long as the inputs and outputs of the operations match the network architecture you want to build. The order in which you define things in the `__init__` method doesn't matter, but you'll need to sequence the operations correctly in the `forward` method.\n",
    "\n",
    "Now we can create a `Network` object."
   ]
  },
  {
   "cell_type": "code",
   "execution_count": null,
   "metadata": {
    "collapsed": true
   },
   "outputs": [],
   "source": [
    "# Create the network and look at it's text representation\n",
    "model = Network()\n",
    "model"
   ]
  },
  {
   "cell_type": "markdown",
   "metadata": {},
   "source": [
    "You can define the network somewhat more concisely and clearly using the `torch.nn.functional` module. This is the most common way you'll see networks defined as many operations are simple element-wise functions. We normally import this module as `F`, `import torch.nn.functional as F`."
   ]
  },
  {
   "cell_type": "code",
   "execution_count": 92,
   "metadata": {},
   "outputs": [],
   "source": [
    "from torch import nn\n",
    "import torch.nn.functional as F\n",
    "\n",
    "class Network(nn.Module):\n",
    "    def __init__(self):\n",
    "        super().__init__()\n",
    "        # Inputs to hidden layer linear transformation\n",
    "        self.hidden = nn.Linear(784, 256)\n",
    "        # Output layer, 10 units - one for each digit\n",
    "        self.output = nn.Linear(256, 10)\n",
    "        \n",
    "    def forward(self, x):\n",
    "        # Hidden layer with sigmoid activation\n",
    "        x = F.sigmoid(self.hidden(x))\n",
    "        # Output layer with softmax activation\n",
    "        x = F.sigmoid(self.output(x))\n",
    "        \n",
    "        return x"
   ]
  },
  {
   "cell_type": "markdown",
   "metadata": {},
   "source": [
    "### Activation functions\n",
    "\n",
    "So far we've only been looking at the softmax activation, but in general any function can be used as an activation function. The only requirement is that for a network to approximate a non-linear function, the activation functions must be non-linear. Here are a few more examples of common activation functions: Tanh (hyperbolic tangent), and ReLU (rectified linear unit).\n",
    "\n",
    "<img src=\"assets/activation.png\" width=700px>\n",
    "\n",
    "In practice, the ReLU function is used almost exclusively as the activation function for hidden layers."
   ]
  },
  {
   "cell_type": "markdown",
   "metadata": {},
   "source": [
    "### Your Turn to Build a Network\n",
    "\n",
    "<img src=\"assets/mlp_mnist.png\" width=600px>\n",
    "\n",
    "> **Exercise:** Create a network with 784 input units, a hidden layer with 128 units and a ReLU activation, then a hidden layer with 64 units and a ReLU activation, and finally an output layer with a softmax activation as shown above. You can use a ReLU activation with the `nn.ReLU` module or `F.relu` function."
   ]
  },
  {
   "cell_type": "code",
   "execution_count": 94,
   "metadata": {
    "scrolled": true
   },
   "outputs": [
    {
     "data": {
      "text/plain": [
       "Network(\n",
       "  (hidden1): Linear(in_features=784, out_features=128, bias=True)\n",
       "  (hidden2): Linear(in_features=128, out_features=64, bias=True)\n",
       "  (output): Linear(in_features=64, out_features=10, bias=True)\n",
       ")"
      ]
     },
     "execution_count": 94,
     "metadata": {},
     "output_type": "execute_result"
    }
   ],
   "source": [
    "import torch.nn.functional as F\n",
    "\n",
    "class Network(nn.Module):\n",
    "    def __init__(self):\n",
    "        super().__init__()\n",
    "        self.hidden1= nn.Linear(784, 128)\n",
    "        self.hidden2 = nn.Linear(128, 64)\n",
    "        self.output = nn.Linear(64, 10)\n",
    "        \n",
    "    def forward(self, x):\n",
    "        x = F.relu(self.hidden1(x))\n",
    "        y = F.relu(self.hidden2(x))\n",
    "        z=F.relu(self.output(y))\n",
    "        \n",
    "        return z\n",
    "    \n",
    "model=Network()\n",
    "model"
   ]
  },
  {
   "cell_type": "markdown",
   "metadata": {},
   "source": [
    "\n",
    "### Initializing weights and biases\n",
    "\n",
    "The weights and such are automatically initialized for you, but it's possible to customize how they are initialized. The weights and biases are tensors attached to the layer you defined, you can get them with `model.fc1.weight` for instance."
   ]
  },
  {
   "cell_type": "code",
   "execution_count": null,
   "metadata": {
    "collapsed": true
   },
   "outputs": [],
   "source": [
    "print(model.fc1.weight)\n",
    "print(model.fc1.bias)"
   ]
  },
  {
   "cell_type": "markdown",
   "metadata": {},
   "source": [
    "For custom initialization, we want to modify these tensors in place. These are actually autograd *Variables*, so we need to get back the actual tensors with `model.fc1.weight.data`. Once we have the tensors, we can fill them with zeros (for biases) or random normal values."
   ]
  },
  {
   "cell_type": "code",
   "execution_count": null,
   "metadata": {
    "collapsed": true
   },
   "outputs": [],
   "source": [
    "# Set biases to all zeros\n",
    "model.fc1.bias.data.fill_(0)"
   ]
  },
  {
   "cell_type": "code",
   "execution_count": null,
   "metadata": {
    "collapsed": true
   },
   "outputs": [],
   "source": [
    "# sample from random normal with standard dev = 0.01\n",
    "model.fc1.weight.data.normal_(std=0.01)"
   ]
  },
  {
   "cell_type": "markdown",
   "metadata": {},
   "source": [
    "### Forward pass\n",
    "\n",
    "Now that we have a network, let's see what happens when we pass in an image."
   ]
  },
  {
   "cell_type": "code",
   "execution_count": null,
   "metadata": {
    "collapsed": true
   },
   "outputs": [],
   "source": [
    "# Grab some data \n",
    "dataiter = iter(trainloader)\n",
    "images, labels = dataiter.next()\n",
    "\n",
    "# Resize images into a 1D vector, new shape is (batch size, color channels, image pixels) \n",
    "images.resize_(64, 1, 784)\n",
    "# or images.resize_(images.shape[0], 1, 784) to automatically get batch size\n",
    "\n",
    "# Forward pass through the network\n",
    "img_idx = 0\n",
    "ps = model.forward(images[img_idx,:])\n",
    "\n",
    "img = images[img_idx]\n",
    "helper.view_classify(img.view(1, 28, 28), ps)"
   ]
  },
  {
   "cell_type": "markdown",
   "metadata": {},
   "source": [
    "As you can see above, our network has basically no idea what this digit is. It's because we haven't trained it yet, all the weights are random!\n",
    "\n",
    "### Using `nn.Sequential`\n",
    "\n",
    "PyTorch provides a convenient way to build networks like this where a tensor is passed sequentially through operations, `nn.Sequential` ([documentation](https://pytorch.org/docs/master/nn.html#torch.nn.Sequential)). Using this to build the equivalent network:"
   ]
  },
  {
   "cell_type": "code",
   "execution_count": null,
   "metadata": {
    "collapsed": true
   },
   "outputs": [],
   "source": [
    "# Hyperparameters for our network\n",
    "input_size = 784\n",
    "hidden_sizes = [128, 64]\n",
    "output_size = 10\n",
    "\n",
    "# Build a feed-forward network\n",
    "model = nn.Sequential(nn.Linear(input_size, hidden_sizes[0]),\n",
    "                      nn.ReLU(),\n",
    "                      nn.Linear(hidden_sizes[0], hidden_sizes[1]),\n",
    "                      nn.ReLU(),\n",
    "                      nn.Linear(hidden_sizes[1], output_size),\n",
    "                      nn.Softmax(dim=1))\n",
    "print(model)\n",
    "\n",
    "# Forward pass through the network and display output\n",
    "images, labels = next(iter(trainloader))\n",
    "images.resize_(images.shape[0], 1, 784)\n",
    "ps = model.forward(images[0,:])\n",
    "helper.view_classify(images[0].view(1, 28, 28), ps)"
   ]
  },
  {
   "cell_type": "markdown",
   "metadata": {},
   "source": [
    "Here our model is the same as before: 784 input units, a hidden layer with 128 units, ReLU activation, 64 unit hidden layer, another ReLU, then the output layer with 10 units, and the softmax output.\n",
    "\n",
    "The operations are availble by passing in the appropriate index. For example, if you want to get first Linear operation and look at the weights, you'd use `model[0]`."
   ]
  },
  {
   "cell_type": "code",
   "execution_count": null,
   "metadata": {
    "collapsed": true
   },
   "outputs": [],
   "source": [
    "print(model[0])\n",
    "model[0].weight"
   ]
  },
  {
   "cell_type": "markdown",
   "metadata": {},
   "source": [
    "You can also pass in an `OrderedDict` to name the individual layers and operations, instead of using incremental integers. Note that dictionary keys must be unique, so _each operation must have a different name_."
   ]
  },
  {
   "cell_type": "code",
   "execution_count": null,
   "metadata": {
    "collapsed": true
   },
   "outputs": [],
   "source": [
    "from collections import OrderedDict\n",
    "model = nn.Sequential(OrderedDict([\n",
    "                      ('fc1', nn.Linear(input_size, hidden_sizes[0])),\n",
    "                      ('relu1', nn.ReLU()),\n",
    "                      ('fc2', nn.Linear(hidden_sizes[0], hidden_sizes[1])),\n",
    "                      ('relu2', nn.ReLU()),\n",
    "                      ('output', nn.Linear(hidden_sizes[1], output_size)),\n",
    "                      ('softmax', nn.Softmax(dim=1))]))\n",
    "model"
   ]
  },
  {
   "cell_type": "markdown",
   "metadata": {},
   "source": [
    "Now you can access layers either by integer or the name"
   ]
  },
  {
   "cell_type": "code",
   "execution_count": null,
   "metadata": {
    "collapsed": true
   },
   "outputs": [],
   "source": [
    "print(model[0])\n",
    "print(model.fc1)"
   ]
  },
  {
   "cell_type": "markdown",
   "metadata": {},
   "source": [
    "In the next notebook, we'll see how we can train a neural network to accuractly predict the numbers appearing in the MNIST images."
   ]
  }
 ],
 "metadata": {
  "kernelspec": {
   "display_name": "Python 3",
   "language": "python",
   "name": "python3"
  },
  "language_info": {
   "codemirror_mode": {
    "name": "ipython",
    "version": 3
   },
   "file_extension": ".py",
   "mimetype": "text/x-python",
   "name": "python",
   "nbconvert_exporter": "python",
   "pygments_lexer": "ipython3",
   "version": "3.7.0"
  }
 },
 "nbformat": 4,
 "nbformat_minor": 2
}
